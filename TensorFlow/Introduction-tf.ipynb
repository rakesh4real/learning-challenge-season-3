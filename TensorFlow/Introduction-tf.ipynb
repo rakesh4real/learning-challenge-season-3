{
 "cells": [
  {
   "cell_type": "markdown",
   "metadata": {},
   "source": [
    "# Tensorflow"
   ]
  },
  {
   "cell_type": "markdown",
   "metadata": {},
   "source": [
    ">Tensorflow is a computational framework for building machine learning models."
   ]
  },
  {
   "cell_type": "markdown",
   "metadata": {},
   "source": [
    "**Hierarchy of tensorflow toolkits**\n",
    "![tf-hierarchy](images/tf-hierarchy.png)\n"
   ]
  },
  {
   "attachments": {},
   "cell_type": "markdown",
   "metadata": {},
   "source": [
    "**Layer Functions**\n",
    "![purposes](images/purposes.png)"
   ]
  },
  {
   "cell_type": "markdown",
   "metadata": {},
   "source": [
    "TensorFlow consists of the following two components\n",
    "    - Graph protocol buffer\n",
    "    - Rruntime that executes the (distributed) graph\n",
    "\n",
    "These two components are analogous to Python code and the Python interpreter. Just as the Python interpreter is implemented on multiple hardware platforms to run Python code, TensorFlow can run the graph on multiple hardware platforms, including CPU, GPU, and TPU."
   ]
  },
  {
   "cell_type": "markdown",
   "metadata": {},
   "source": [
    "   "
   ]
  },
  {
   "cell_type": "markdown",
   "metadata": {},
   "source": [
    "## tf.estimator API"
   ]
  },
  {
   "cell_type": "markdown",
   "metadata": {},
   "source": [
    "\n",
    "- The higher levels of abstraction are easier to use, but are also (by design) less flexible.\n",
    "- ```tf.estimator``` dramatically lowers the number of lines of code.\n",
    "- It is compatible with the scikit-learn API\n"
   ]
  },
  {
   "cell_type": "markdown",
   "metadata": {},
   "source": [
    "**Pseudocode for a linear classification program implemented in ```tf.estimator```**\n",
    "\n",
    "```\n",
    "import tensorflow as tf\n",
    "\n",
    "# Set up a linear classifier.\n",
    "classifier = tf.estimator.LinearClassifier(feature_columns)\n",
    "\n",
    "# Train the model on some example data.\n",
    "classifier.train(input_fn=train_input_fn, steps=2000)\n",
    "\n",
    "# Use it to predict.\n",
    "predictions = classifier.predict(input_fn=predict_input_fn)\n",
    "```"
   ]
  }
 ],
 "metadata": {
  "kernelspec": {
   "display_name": "Python 3",
   "language": "python",
   "name": "python3"
  },
  "language_info": {
   "codemirror_mode": {
    "name": "ipython",
    "version": 3
   },
   "file_extension": ".py",
   "mimetype": "text/x-python",
   "name": "python",
   "nbconvert_exporter": "python",
   "pygments_lexer": "ipython3",
   "version": "3.7.3"
  }
 },
 "nbformat": 4,
 "nbformat_minor": 2
}
